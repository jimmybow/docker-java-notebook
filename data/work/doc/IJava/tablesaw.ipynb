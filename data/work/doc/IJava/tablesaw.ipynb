{
 "cells": [
  {
   "cell_type": "code",
   "execution_count": 1,
   "id": "2b5c1c87",
   "metadata": {},
   "outputs": [
    {
     "name": "stderr",
     "output_type": "stream",
     "text": [
      "SLF4J: Failed to load class \"org.slf4j.impl.StaticLoggerBinder\".\n",
      "SLF4J: Defaulting to no-operation (NOP) logger implementation\n",
      "SLF4J: See http://www.slf4j.org/codes.html#StaticLoggerBinder for further details.\n"
     ]
    },
    {
     "data": {
      "text/plain": [
       "\n",
       "<\u001b[0;1m-------------> 0% CONFIGURING [139ms]\u001b[m\u001b[38D\u001b[1B\u001b[1A\u001b[0K\n",
       "\u001b[1m> Configure project :\u001b[m\n",
       "\n",
       "Welcome to Gradle 7.4.2 - http://www.gradle.org\n",
       "Java Version: 17\n",
       "Gradle home is set to: /home/jovyan/.gradle/wrapper/dists/gradle-7.4.2-bin/48ivgl02cpt2ed3fh9dbalvx8/gradle-7.4.2\n",
       "Gradle user directory is set to: /home/jovyan/.gradle\n",
       "\n",
       "\u001b[0K\n",
       "\n",
       "<\u001b[0;1m-------------> 0% EXECUTING [239ms]\u001b[m\u001b[36D\u001b[1B\u001b[1m> :RuntimeClasspath > Resolve dependencies of :runtimeClasspath\u001b[m\u001b[63D\u001b[1B\u001b[2A\u001b[0K\n",
       "\u001b[1m> Task :RuntimeClasspath\u001b[m\u001b[0K\n",
       "RuntimeClasspath: /tmp/cee98e1f-b299-4e89-a49c-ee9ece693f8f/build/classes/java/main\n",
       "RuntimeClasspath: /tmp/cee98e1f-b299-4e89-a49c-ee9ece693f8f/build/resources/main\n",
       "RuntimeClasspath: /home/jovyan/.gradle/caches/modules-2/files-2.1/tech.tablesaw/tablesaw-core/0.43.1/2205ccd55e05df36a02ed5364b4dcdeed1bbd8c0/tablesaw-core-0.43.1.jar\n",
       "RuntimeClasspath: /home/jovyan/.gradle/caches/modules-2/files-2.1/com.google.guava/guava/30.0-jre/8ddbc8769f73309fe09b54c5951163f10b0d89fa/guava-30.0-jre.jar\n",
       "RuntimeClasspath: /home/jovyan/.gradle/caches/modules-2/files-2.1/org.apache.commons/commons-math3/3.6.1/e4ba98f1d4b3c80ec46392f25e094a6a2e58fcbf/commons-math3-3.6.1.jar\n",
       "RuntimeClasspath: /home/jovyan/.gradle/caches/modules-2/files-2.1/it.unimi.dsi/fastutil/8.3.0/742307990505e3a149c9c60825ffc1db5ceef02e/fastutil-8.3.0.jar\n",
       "RuntimeClasspath: /home/jovyan/.gradle/caches/modules-2/files-2.1/org.roaringbitmap/RoaringBitmap/0.9.25/528fb3befc96737a49266c12e086c0fadd8719df/RoaringBitmap-0.9.25.jar\n",
       "RuntimeClasspath: /home/jovyan/.gradle/caches/modules-2/files-2.1/com.univocity/univocity-parsers/2.8.4/c3fadbbecfadd8b9a9911eb2d06d9cf9a873edaa/univocity-parsers-2.8.4.jar\n",
       "RuntimeClasspath: /home/jovyan/.gradle/caches/modules-2/files-2.1/com.ibm.icu/icu4j/65.1/b56801548aeb2f75ee3fbb42b11790f07f7d0f/icu4j-65.1.jar\n",
       "RuntimeClasspath: /home/jovyan/.gradle/caches/modules-2/files-2.1/io.github.classgraph/classgraph/4.8.60/153ede9d717449ff915f4c7889530e1647306a0/classgraph-4.8.60.jar\n",
       "RuntimeClasspath: /home/jovyan/.gradle/caches/modules-2/files-2.1/org.slf4j/slf4j-api/1.7.30/b5a4b6d16ab13e34a88fae84c35cd5d68cac922c/slf4j-api-1.7.30.jar\n",
       "RuntimeClasspath: /home/jovyan/.gradle/caches/modules-2/files-2.1/com.google.guava/failureaccess/1.0.1/1dcf1de382a0bf95a3d8b0849546c88bac1292c9/failureaccess-1.0.1.jar\n",
       "RuntimeClasspath: /home/jovyan/.gradle/caches/modules-2/files-2.1/com.google.guava/listenablefuture/9999.0-empty-to-avoid-conflict-with-guava/b421526c5f297295adef1c886e5246c39d4ac629/listenablefuture-9999.0-empty-to-avoid-conflict-with-guava.jar\n",
       "RuntimeClasspath: /home/jovyan/.gradle/caches/modules-2/files-2.1/com.google.code.findbugs/jsr305/3.0.2/25ea2e8b0c338a877313bd4672d3fe056ea78f0d/jsr305-3.0.2.jar\n",
       "RuntimeClasspath: /home/jovyan/.gradle/caches/modules-2/files-2.1/org.checkerframework/checker-qual/3.5.0/2f50520c8abea66fbd8d26e481d3aef5c673b510/checker-qual-3.5.0.jar\n",
       "RuntimeClasspath: /home/jovyan/.gradle/caches/modules-2/files-2.1/com.google.errorprone/error_prone_annotations/2.3.4/dac170e4594de319655ffb62f41cbd6dbb5e601e/error_prone_annotations-2.3.4.jar\n",
       "RuntimeClasspath: /home/jovyan/.gradle/caches/modules-2/files-2.1/com.google.j2objc/j2objc-annotations/1.3/ba035118bc8bac37d7eff77700720999acd9986d/j2objc-annotations-1.3.jar\n",
       "RuntimeClasspath: /home/jovyan/.gradle/caches/modules-2/files-2.1/org.roaringbitmap/shims/0.9.25/2f8109894e38b996fb1e679263057cceeaf86b11/shims-0.9.25.jar\n",
       "\n",
       "\u001b[32;1mBUILD SUCCESSFUL\u001b[0;39m in 1s\n",
       "1 actionable task: 1 executed\n",
       "\u001b[0K\n",
       "\u001b[0K\n",
       "<\u001b[0;1m-------------> 0% WAITING\u001b[m\u001b[26D\u001b[1B> IDLE\u001b[6D\u001b[1B\u001b[2A\u001b[2K\u001b[1B\u001b[2K\u001b[1A"
      ]
     },
     "metadata": {},
     "output_type": "display_data"
    }
   ],
   "source": [
    "%%gradle\n",
    "\n",
    "println \"\"\"\n",
    "Welcome to Gradle $gradle.gradleVersion - http://www.gradle.org\n",
    "Java Version: ${JavaVersion.current()}\n",
    "Gradle home is set to: $gradle.gradleHomeDir\n",
    "Gradle user directory is set to: $gradle.gradleUserHomeDir\n",
    "\"\"\"\n",
    "    \n",
    "dependencies {\n",
    "    api (\n",
    "        \"tech.tablesaw:tablesaw-core:0.43.1\",\n",
    "    )    \n",
    "}"
   ]
  },
  {
   "cell_type": "markdown",
   "id": "359685ed",
   "metadata": {},
   "source": [
    "# Tablesaw Basic Usage"
   ]
  },
  {
   "cell_type": "code",
   "execution_count": 2,
   "id": "17ef6a28",
   "metadata": {},
   "outputs": [],
   "source": [
    "import tech.tablesaw.api.*;\n",
    "import static tech.tablesaw.aggregate.AggregateFunctions.*;\n",
    "var tornadoes = Table.read().csv(\"../resources/data/tornadoes_2014.csv\")"
   ]
  },
  {
   "cell_type": "code",
   "execution_count": 3,
   "id": "6e2b0866",
   "metadata": {
    "scrolled": true
   },
   "outputs": [
    {
     "data": {
      "text/plain": [
       "     Structure of tornadoes_2014.csv     \n",
       " Index  |  Column Name  |  Column Type  |\n",
       "-----------------------------------------\n",
       "     0  |         Date  |   LOCAL_DATE  |\n",
       "     1  |         Time  |   LOCAL_TIME  |\n",
       "     2  |        State  |       STRING  |\n",
       "     3  |     State No  |      INTEGER  |\n",
       "     4  |        Scale  |      INTEGER  |\n",
       "     5  |     Injuries  |      INTEGER  |\n",
       "     6  |   Fatalities  |      INTEGER  |\n",
       "     7  |    Start Lat  |       DOUBLE  |\n",
       "     8  |    Start Lon  |       DOUBLE  |\n",
       "     9  |       Length  |       DOUBLE  |\n",
       "    10  |        Width  |      INTEGER  |"
      ]
     },
     "execution_count": 3,
     "metadata": {},
     "output_type": "execute_result"
    }
   ],
   "source": [
    "//print dataset structure\n",
    "tornadoes.structure()"
   ]
  },
  {
   "cell_type": "code",
   "execution_count": 4,
   "id": "d841fc38",
   "metadata": {
    "scrolled": true
   },
   "outputs": [
    {
     "data": {
      "text/plain": [
       "[Date, Time, State, State No, Scale, Injuries, Fatalities, Start Lat, Start Lon, Length, Width]"
      ]
     },
     "execution_count": 4,
     "metadata": {},
     "output_type": "execute_result"
    }
   ],
   "source": [
    "//get header names\n",
    "tornadoes.columnNames()"
   ]
  },
  {
   "cell_type": "code",
   "execution_count": 5,
   "id": "d2a66ed8",
   "metadata": {
    "scrolled": true
   },
   "outputs": [
    {
     "data": {
      "text/plain": [
       "tornadoes_2014.csv: 908 rows X 11 cols"
      ]
     },
     "execution_count": 5,
     "metadata": {},
     "output_type": "execute_result"
    }
   ],
   "source": [
    "//displays the row and column counts\n",
    "tornadoes.shape()"
   ]
  },
  {
   "cell_type": "code",
   "execution_count": 6,
   "id": "686a3748",
   "metadata": {
    "scrolled": true
   },
   "outputs": [
    {
     "data": {
      "text/plain": [
       "                                                           tornadoes_2014.csv                                                            \n",
       "    Date     |    Time    |  State  |  State No  |  Scale  |  Injuries  |  Fatalities  |  Start Lat  |  Start Lon  |  Length  |  Width  |\n",
       "-----------------------------------------------------------------------------------------------------------------------------------------\n",
       " 2014-01-11  |  06:37:00  |     GA  |         0  |      0  |         0  |           0  |    34.3328  |   -84.5286  |     2.9  |     10  |\n",
       " 2014-01-11  |  14:32:00  |     VA  |         0  |      0  |         0  |           0  |     37.025  |   -76.6377  |    1.36  |    100  |\n",
       " 2014-01-11  |  14:32:00  |     VA  |         0  |      0  |         0  |           0  |    36.8769  |   -76.6721  |    1.95  |     50  |\n",
       " 2014-01-11  |  14:50:00  |     VA  |         0  |      0  |         0  |           0  |      37.08  |      -76.3  |    1.08  |     75  |\n",
       " 2014-02-20  |  14:25:00  |     IL  |         0  |      2  |         1  |           0  |     39.518  |    -90.841  |   12.09  |     80  |\n",
       " 2014-02-20  |  14:48:00  |     IL  |         0  |      0  |         0  |           0  |    39.7853  |   -90.4215  |    0.27  |     25  |\n",
       " 2014-02-20  |  14:52:00  |     IL  |         0  |      0  |         0  |           0  |    39.8193  |   -90.4178  |    8.17  |     50  |\n",
       " 2014-02-20  |  15:43:00  |     IL  |         0  |      0  |         0  |           0  |    39.5671  |   -89.6256  |    0.22  |     75  |\n",
       " 2014-02-20  |  15:57:00  |     IL  |         0  |      1  |         0  |           0  |    38.7575  |   -89.6151  |   20.56  |    300  |\n",
       " 2014-02-20  |  16:09:00  |     IL  |         0  |      2  |         1  |           0  |    39.2586  |    -89.234  |   22.38  |    200  |"
      ]
     },
     "execution_count": 6,
     "metadata": {},
     "output_type": "execute_result"
    }
   ],
   "source": [
    "//displays the first n rows\n",
    "tornadoes.first(10)"
   ]
  },
  {
   "cell_type": "code",
   "execution_count": 7,
   "id": "550d3385",
   "metadata": {},
   "outputs": [
    {
     "data": {
      "text/plain": [
       "     Structure of tornadoes_2014.csv     \n",
       " Index  |  Column Name  |  Column Type  |\n",
       "-----------------------------------------\n",
       "     7  |    Start Lat  |       DOUBLE  |\n",
       "     8  |    Start Lon  |       DOUBLE  |\n",
       "     9  |       Length  |       DOUBLE  |"
      ]
     },
     "execution_count": 7,
     "metadata": {},
     "output_type": "execute_result"
    }
   ],
   "source": [
    "var ww = tornadoes.structure().stringColumn(\"Column Type\").isEqualTo(\"DOUBLE\");\n",
    "tornadoes.structure().where(ww);"
   ]
  },
  {
   "cell_type": "code",
   "execution_count": 8,
   "id": "0a0f438b",
   "metadata": {},
   "outputs": [
    {
     "data": {
      "text/plain": [
       "                                                                                                      tornadoes_2014.csv                                                                                                       \n",
       "  Summary   |     Date     |  Time   |  State  |  State No  |        Scale         |       Injuries       |      Fatalities       |      Start Lat       |      Start Lon       |        Length        |        Width         |\n",
       "-------------------------------------------------------------------------------------------------------------------------------------------------------------------------------------------------------------------------------\n",
       "     Count  |         908  |    908  |    908  |       908  |                 908  |                 908  |                  908  |                 908  |                 908  |                 908  |                 908  |\n",
       "   Missing  |           0  |      0  |         |            |                      |                      |                       |                      |                      |                      |                      |\n",
       "  Earliest  |  2014-01-11  |  00:01  |         |            |                      |                      |                       |                      |                      |                      |                      |\n",
       "    Latest  |  2014-12-29  |  23:59  |         |            |                      |                      |                       |                      |                      |                      |                      |\n",
       "    Unique  |              |         |     43  |            |                      |                      |                       |                      |                      |                      |                      |\n",
       "       Top  |              |         |     NE  |            |                      |                      |                       |                      |                      |                      |                      |\n",
       " Top Freq.  |              |         |     62  |            |                      |                      |                       |                      |                      |                      |                      |\n",
       "       sum  |              |         |         |         0  |                 567  |                 684  |                   48  |   34690.98260000002  |  -83613.02509999996  |  3014.4899999999984  |              149778  |\n",
       "      Mean  |              |         |         |         0  |  0.6244493392070485  |  0.7533039647577101  |  0.05286343612334797  |   38.20592797356829  |   -92.0848294052863  |  3.3199229074889853  |  164.95374449339195  |\n",
       "       Min  |              |         |         |         0  |                   0  |                   0  |                    0  |                   0  |            -122.946  |                   0  |                   0  |\n",
       "       Max  |              |         |         |         0  |                   4  |                 193  |                   16  |               48.86  |                   0  |               45.68  |                2640  |\n",
       "     Range  |              |         |         |         0  |                   4  |                 193  |                   16  |               48.86  |             122.946  |               45.68  |                2640  |\n",
       "  Variance  |              |         |         |         0  |   0.627273676592727  |  57.681080582255504  |   0.4426268523330529  |  22.448586253571573  |   91.84773473039117  |   28.73656636670735  |  57764.463128190386  |\n",
       "  Std. Dev  |              |         |         |         0  |  0.7920061089364949  |    7.59480615830684  |   0.6653020760023621  |   4.737993906029383  |   9.583722383833495  |   5.360649808251547  |  240.34238728986276  |"
      ]
     },
     "execution_count": 8,
     "metadata": {},
     "output_type": "execute_result"
    }
   ],
   "source": [
    "//summarize the data in each column\n",
    "tornadoes.summary()"
   ]
  },
  {
   "cell_type": "code",
   "execution_count": 9,
   "id": "4969cffd",
   "metadata": {},
   "outputs": [
    {
     "data": {
      "text/plain": [
       "[Date, Time, State, State No, Scale, Injuries, Fatalities, Start Lat, Start Lon, Length, Width, Date month]"
      ]
     },
     "execution_count": 9,
     "metadata": {},
     "output_type": "execute_result"
    }
   ],
   "source": [
    "//Mapping operations\n",
    "var month = tornadoes.dateColumn(\"Date\").month();\n",
    "tornadoes.addColumns(month);\n",
    "tornadoes.columnNames()"
   ]
  },
  {
   "cell_type": "code",
   "execution_count": 10,
   "id": "670fcc9d",
   "metadata": {},
   "outputs": [
    {
     "data": {
      "text/plain": [
       "                                                                   tornadoes_2014.csv                                                                   \n",
       "    Date     |    Time    |  State  |  State No  |  Scale  |  Injuries  |  Fatalities  |  Start Lat  |  Start Lon  |  Length  |  Width  |  Date month  |\n",
       "--------------------------------------------------------------------------------------------------------------------------------------------------------\n",
       " 2014-04-27  |  18:06:00  |     AR  |         0  |      4  |       193  |          16  |    34.7787  |    -92.652  |    41.1  |   1320  |       APRIL  |\n",
       " 2014-04-28  |  14:51:00  |     MS  |         0  |      4  |        84  |          10  |      32.88  |     -89.43  |   33.39  |   1320  |       APRIL  |\n",
       " 2014-07-08  |  17:02:00  |     NY  |         0  |      2  |         0  |           4  |      42.99  |     -75.64  |     2.5  |    235  |        JULY  |\n",
       " 2014-12-23  |  14:20:00  |     MS  |         0  |      3  |        50  |           3  |    31.2273  |   -89.8331  |   12.51  |    880  |    DECEMBER  |\n",
       " 2014-04-27  |  14:20:00  |     IA  |         0  |      1  |         0  |           2  |    41.1325  |   -92.3117  |   45.68  |   1600  |       APRIL  |\n",
       " 2014-12-23  |  15:22:00  |     MS  |         0  |      2  |         0  |           2  |    31.6986  |   -89.2239  |    5.89  |    350  |    DECEMBER  |\n",
       " 2014-04-28  |  15:47:00  |     AL  |         0  |      3  |        30  |           2  |    34.7753  |   -87.2324  |   15.56  |    600  |       APRIL  |\n",
       " 2014-04-28  |  19:09:00  |     TN  |         0  |      3  |         0  |           2  |    35.0066  |   -86.5497  |   26.76  |    500  |       APRIL  |\n",
       " 2014-04-25  |  17:20:00  |     NC  |         0  |      2  |         1  |           1  |     36.054  |     -76.74  |   37.48  |    400  |       APRIL  |\n",
       " 2014-10-13  |  04:37:00  |     AR  |         0  |      2  |         4  |           1  |    33.6617  |   -94.2303  |    2.51  |    400  |     OCTOBER  |\n",
       "        ...  |       ...  |    ...  |       ...  |    ...  |       ...  |         ...  |        ...  |        ...  |     ...  |    ...  |         ...  |\n",
       " 2014-02-20  |  14:48:00  |     IL  |         0  |      0  |         0  |           0  |    39.7853  |   -90.4215  |    0.27  |     25  |    FEBRUARY  |\n",
       " 2014-02-20  |  14:52:00  |     IL  |         0  |      0  |         0  |           0  |    39.8193  |   -90.4178  |    8.17  |     50  |    FEBRUARY  |\n",
       " 2014-02-20  |  15:43:00  |     IL  |         0  |      0  |         0  |           0  |    39.5671  |   -89.6256  |    0.22  |     75  |    FEBRUARY  |\n",
       " 2014-02-20  |  15:57:00  |     IL  |         0  |      1  |         0  |           0  |    38.7575  |   -89.6151  |   20.56  |    300  |    FEBRUARY  |\n",
       " 2014-02-20  |  16:09:00  |     IL  |         0  |      2  |         1  |           0  |    39.2586  |    -89.234  |   22.38  |    200  |    FEBRUARY  |\n",
       " 2014-02-20  |  16:36:00  |     IL  |         0  |      1  |         0  |           0  |    39.0158  |    -88.998  |     4.8  |     50  |    FEBRUARY  |\n",
       " 2014-02-20  |  16:39:00  |     MO  |         0  |      1  |         5  |           0  |    36.1895  |   -89.8812  |    0.24  |     70  |    FEBRUARY  |\n",
       " 2014-02-20  |  16:40:00  |     IL  |         0  |      1  |         0  |           0  |    37.6987  |   -89.3713  |    0.39  |     50  |    FEBRUARY  |\n",
       " 2014-02-20  |  16:40:00  |     IL  |         0  |      0  |         0  |           0  |    39.5176  |   -88.8109  |    0.28  |     50  |    FEBRUARY  |\n",
       " 2014-02-20  |  16:41:00  |     MO  |         0  |      1  |         0  |           0  |    36.2349  |   -89.8029  |    0.04  |     25  |    FEBRUARY  |"
      ]
     },
     "execution_count": 10,
     "metadata": {},
     "output_type": "execute_result"
    }
   ],
   "source": [
    "//Sorting by column\n",
    "tornadoes.sortOn(\"-Fatalities\")"
   ]
  },
  {
   "cell_type": "code",
   "execution_count": 11,
   "id": "d00d9403",
   "metadata": {
    "scrolled": true
   },
   "outputs": [
    {
     "data": {
      "text/plain": [
       "         Column: Fatalities         \n",
       " Measure   |         Value         |\n",
       "------------------------------------\n",
       "    Count  |                  908  |\n",
       "      sum  |                   48  |\n",
       "     Mean  |  0.05286343612334797  |\n",
       "      Min  |                    0  |\n",
       "      Max  |                   16  |\n",
       "    Range  |                   16  |\n",
       " Variance  |   0.4426268523330529  |\n",
       " Std. Dev  |   0.6653020760023621  |"
      ]
     },
     "execution_count": 11,
     "metadata": {},
     "output_type": "execute_result"
    }
   ],
   "source": [
    "//Descriptive statistics\n",
    "tornadoes.column(\"Fatalities\").summary()"
   ]
  },
  {
   "cell_type": "code",
   "execution_count": 12,
   "id": "9b6cef92",
   "metadata": {},
   "outputs": [
    {
     "data": {
      "text/plain": [
       "                 Summarize injuries by Tornado Scale                 \n",
       " Scale  |  Min [Injuries]  |  Median [Injuries]  |  Max [Injuries]  |\n",
       "---------------------------------------------------------------------\n",
       "     0  |               0  |                  0  |              10  |\n",
       "     2  |               0  |                  0  |              37  |\n",
       "     1  |               0  |                  0  |              13  |\n",
       "     3  |               0  |                  0  |              50  |\n",
       "     4  |               0  |                  2  |             193  |"
      ]
     },
     "execution_count": 12,
     "metadata": {},
     "output_type": "execute_result"
    }
   ],
   "source": [
    "//Performing totals and sub-totals\n",
    "var injuriesByScale = tornadoes.summarize(\"Injuries\", min, median, max).by(\"Scale\");\n",
    "injuriesByScale.setName(\"Summarize injuries by Tornado Scale\");\n",
    "injuriesByScale"
   ]
  },
  {
   "cell_type": "code",
   "execution_count": 13,
   "id": "4a698a01",
   "metadata": {},
   "outputs": [
    {
     "data": {
      "text/plain": [
       "                Crosstab Counts: State x Scale                \n",
       " [labels]  |   0   |   1   |   2   |   3   |   4   |  total  |\n",
       "--------------------------------------------------------------\n",
       "       AL  |   12  |   32  |    7  |    4  |    0  |     55  |\n",
       "       AR  |    5  |   12  |    2  |    0  |    1  |     20  |\n",
       "       AZ  |    3  |    0  |    0  |    0  |    0  |      3  |\n",
       "       CA  |    6  |    3  |    0  |    0  |    0  |      9  |\n",
       "       CO  |   41  |    7  |    1  |    0  |    0  |     49  |\n",
       "       CT  |    1  |    0  |    0  |    0  |    0  |      1  |\n",
       "       DE  |    0  |    1  |    0  |    0  |    0  |      1  |\n",
       "       FL  |   23  |    4  |    1  |    0  |    0  |     28  |\n",
       "       GA  |   13  |   16  |    3  |    0  |    0  |     32  |\n",
       "       IA  |   31  |   22  |    3  |    0  |    0  |     56  |\n",
       "      ...  |  ...  |  ...  |  ...  |  ...  |  ...  |    ...  |\n",
       "       SC  |    7  |    0  |    0  |    0  |    0  |      7  |\n",
       "       SD  |   18  |    6  |    4  |    0  |    1  |     29  |\n",
       "       TN  |    3  |   10  |    3  |    2  |    0  |     18  |\n",
       "       TX  |   35  |    9  |    2  |    0  |    0  |     46  |\n",
       "       VA  |   11  |    1  |    0  |    0  |    0  |     12  |\n",
       "       WA  |    2  |    1  |    0  |    0  |    0  |      3  |\n",
       "       WI  |    6  |   11  |    4  |    1  |    0  |     22  |\n",
       "       WV  |    1  |    7  |    1  |    0  |    0  |      9  |\n",
       "       WY  |   10  |    2  |    1  |    0  |    0  |     13  |\n",
       "    Total  |  478  |  327  |   76  |   20  |    7  |    908  |"
      ]
     },
     "execution_count": 13,
     "metadata": {},
     "output_type": "execute_result"
    }
   ],
   "source": [
    "//Cross Tabs\n",
    "tornadoes.xTabCounts(\"State\", \"Scale\")"
   ]
  }
 ],
 "metadata": {
  "kernelspec": {
   "display_name": "Java17",
   "language": "java17",
   "name": "java17"
  },
  "language_info": {
   "codemirror_mode": "java",
   "file_extension": ".jshell",
   "mimetype": "text/x-java-source",
   "name": "Java",
   "pygments_lexer": "java",
   "version": "17.0.7+7-Ubuntu-0ubuntu118.04"
  },
  "toc": {
   "base_numbering": 1,
   "nav_menu": {},
   "number_sections": false,
   "sideBar": false,
   "skip_h1_title": false,
   "title_cell": "Table of Contents",
   "title_sidebar": "Contents",
   "toc_cell": false,
   "toc_position": {},
   "toc_section_display": false,
   "toc_window_display": false
  }
 },
 "nbformat": 4,
 "nbformat_minor": 5
}
