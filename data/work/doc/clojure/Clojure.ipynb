{
 "cells": [
  {
   "cell_type": "markdown",
   "metadata": {},
   "source": [
    "# Clojure\n",
    "\n",
    "[Clojure](http://clojure.org/) is a dialect of Lisp that runs in the JVM.\n",
    "It shares with Lisp the code-as-data philosophy and a powerful macro system.\n",
    "Clojure is predominantly a functional programming language, and features a rich set of immutable, persistent data structures.\n",
    "It has strong support for reliable multithreading and concurrency."
   ]
  },
  {
   "cell_type": "code",
   "execution_count": 1,
   "metadata": {},
   "outputs": [
    {
     "data": {
      "text/plain": [
       "[0, 1, 1, 2, 3, 5, 8, 13, 21, 34, 55, 89, 144, 233, 377, 610, 987, 1597, 2584, 4181]"
      ]
     },
     "execution_count": 1,
     "metadata": {},
     "output_type": "execute_result"
    }
   ],
   "source": [
    "; lazy infinite sequence with recursive definition\n",
    "(def fib-seq-lazy \n",
    "  ((fn rfib [a b] \n",
    "     (lazy-seq (cons a (rfib b (+ a b)))))\n",
    "   0 1))\n",
    "(take 20 fib-seq-lazy)"
   ]
  },
  {
   "cell_type": "code",
   "execution_count": 2,
   "metadata": {},
   "outputs": [
    {
     "name": "stdout",
     "output_type": "stream",
     "text": [
      "Will print\n"
     ]
    },
    {
     "data": {
      "text/plain": [
       "null"
      ]
     },
     "execution_count": 2,
     "metadata": {},
     "output_type": "execute_result"
    }
   ],
   "source": [
    "; 'unless' cannot be defined with a function because\n",
    "; it does not always evaluate both its arguments.\n",
    "(defmacro unless [pred a b]\n",
    "  `(if (not ~pred) ~a ~b))\n",
    "(unless false (println \"Will print\") (println \"Will not print\"))"
   ]
  },
  {
   "cell_type": "code",
   "execution_count": 3,
   "metadata": {},
   "outputs": [
    {
     "name": "stdout",
     "output_type": "stream",
     "text": [
      "([0 1 2 3 4 5] [6 7 8 9 10 11] [12 13 14 15 16 17] [18 19 20 21 22 23] [24 25 26 27 28 29] [30 31 32 33 34 35])\n",
      "Distinct: 36\n",
      "([31 0 24 13 17 20] [11 4 22 25 12 34] [21 29 28 30 14 18] [16 33 10 26 32 15] [3 8 1 6 7 35] [19 5 27 9 2 23])\n",
      "Distinct: 36\n"
     ]
    },
    {
     "data": {
      "text/plain": [
       "null"
      ]
     },
     "execution_count": 3,
     "metadata": {},
     "output_type": "execute_result"
    }
   ],
   "source": [
    "(defn run [nvecs nitems nthreads niters]\n",
    "  (let [vec-refs (vec (map (comp ref vec)\n",
    "                           (partition nitems (range (* nvecs nitems)))))\n",
    "        swap #(let [v1 (rand-int nvecs)\n",
    "                    v2 (rand-int nvecs)\n",
    "                    i1 (rand-int nitems)\n",
    "                    i2 (rand-int nitems)]\n",
    "                (dosync\n",
    "                 (let [temp (nth @(vec-refs v1) i1)]\n",
    "                   (alter (vec-refs v1) assoc i1 (nth @(vec-refs v2) i2))\n",
    "                   (alter (vec-refs v2) assoc i2 temp))))\n",
    "        report #(do\n",
    "                 (prn (map deref vec-refs))\n",
    "                 (println \"Distinct:\"\n",
    "                          (count (distinct (apply concat (map deref vec-refs))))))]\n",
    "    (report)\n",
    "    (dorun (apply pcalls (repeat nthreads #(dotimes [_ niters] (swap)))))\n",
    "    (report)))\n",
    "; When run, we see no values get lost or duplicated in the shuffle.\n",
    "; There are 36 distinct numbers before and after. \n",
    "(run 6 6 6 100000)"
   ]
  },
  {
   "cell_type": "markdown",
   "metadata": {
    "collapsed": true
   },
   "source": [
    "## Using the classpath to load a jar\n",
    "\n",
    "This first cell shows that you get an error if you try to import a class not built-in to BeakerX:"
   ]
  },
  {
   "cell_type": "code",
   "execution_count": 4,
   "metadata": {},
   "outputs": [
    {
     "ename": "java.lang.ClassNotFoundException",
     "evalue": " com.beaker.BeakerXClasspathTest",
     "output_type": "error",
     "traceback": [
      "\u001b[1;31mjava.lang.ClassNotFoundException: com.beaker.BeakerXClasspathTest\u001b[0;0m",
      "\u001b[1;31m\tat java.base/java.net.URLClassLoader.findClass(URLClassLoader.java:476)\u001b[0;0m",
      "\u001b[1;31m\tat clojure.lang.DynamicClassLoader.findClass(DynamicClassLoader.java:69)\u001b[0;0m",
      "\u001b[1;31m\tat java.base/java.lang.ClassLoader.loadClass(ClassLoader.java:589)\u001b[0;0m",
      "\u001b[1;31m\tat clojure.lang.DynamicClassLoader.loadClass(DynamicClassLoader.java:77)\u001b[0;0m",
      "\u001b[1;31m\tat java.base/java.lang.ClassLoader.loadClass(ClassLoader.java:522)\u001b[0;0m",
      "\u001b[1;31m\tat java.base/java.lang.Class.forName0(Native Method)\u001b[0;0m",
      "\u001b[1;31m\tat java.base/java.lang.Class.forName(Class.java:398)\u001b[0;0m",
      "\u001b[1;31m\tat clojure.lang.RT.classForName(RT.java:2204)\u001b[0;0m",
      "\u001b[1;31m\tat clojure.lang.RT.classForNameNonLoading(RT.java:2217)\u001b[0;0m",
      "\u001b[1;31m\tat beaker_clojure_shell_d26ca152_c349_4e19_9491_8a803ca3c6c8$eval190.invokeStatic(Unknown Source)\u001b[0;0m",
      "\u001b[1;31m\tat beaker_clojure_shell_d26ca152_c349_4e19_9491_8a803ca3c6c8$eval190.invoke(Unknown Source)\u001b[0;0m",
      "\u001b[1;31m\tat clojure.lang.Compiler.eval(Compiler.java:7062)\u001b[0;0m",
      "\u001b[1;31m\tat clojure.lang.Compiler.eval(Compiler.java:7052)\u001b[0;0m",
      "\u001b[1;31m\tat clojure.lang.Compiler.load(Compiler.java:7514)\u001b[0;0m",
      "\u001b[1;31m\tat clojure.lang.Compiler.load(Compiler.java:7461)\u001b[0;0m",
      "\u001b[1;31m\tat clojure.core$load_reader.invokeStatic(core.clj:4053)\u001b[0;0m",
      "\u001b[1;31m\tat clojure.core$load_string.invokeStatic(core.clj:4055)\u001b[0;0m",
      "\u001b[1;31m\tat clojure.core$load_string.invoke(core.clj:4055)\u001b[0;0m",
      "\u001b[1;31m\tat beaker_clojure_shell_d26ca152_c349_4e19_9491_8a803ca3c6c8$run_str_d26ca152_c349_4e19_9491_8a803ca3c6c8.invokeStatic(Unknown Source)\u001b[0;0m",
      "\u001b[1;31m\tat beaker_clojure_shell_d26ca152_c349_4e19_9491_8a803ca3c6c8$run_str_d26ca152_c349_4e19_9491_8a803ca3c6c8.invoke(Unknown Source)\u001b[0;0m",
      "\u001b[1;31m\tat clojure.lang.Var.invoke(Var.java:381)\u001b[0;0m",
      "\u001b[0;31m\tat com.twosigma.beakerx.clojure.evaluator.ClojureEvaluator.runCode(ClojureEvaluator.java:191)\u001b[0;0m",
      "\u001b[0;31m\tat com.twosigma.beakerx.clojure.evaluator.ClojureCodeRunner.call(ClojureCodeRunner.java:46)\u001b[0;0m",
      "\u001b[0;31m\tat com.twosigma.beakerx.clojure.evaluator.ClojureCodeRunner.call(ClojureCodeRunner.java:29)\u001b[0;0m",
      "\u001b[0;31m\tat java.base/java.util.concurrent.FutureTask.run(FutureTask.java:264)\u001b[0;0m",
      "\u001b[0;31m\tat java.base/java.lang.Thread.run(Thread.java:829)\u001b[0;0m"
     ]
    }
   ],
   "source": [
    "(import com.beaker.BeakerXClasspathTest)\n",
    "(def classpathTest (new BeakerXClasspathTest))"
   ]
  },
  {
   "cell_type": "markdown",
   "metadata": {},
   "source": [
    "The magic `%classpath` allows you to add jars to your kernel."
   ]
  },
  {
   "cell_type": "code",
   "execution_count": 5,
   "metadata": {},
   "outputs": [
    {
     "data": {
      "application/vnd.jupyter.widget-view+json": {
       "model_id": "64c3bc86-e9ac-465a-b0c7-8a02ce4369c6",
       "version_major": 2,
       "version_minor": 0
      },
      "method": "display_data"
     },
     "metadata": {},
     "output_type": "display_data"
    }
   ],
   "source": [
    "%classpath add jar ../resources/jar/BeakerXClasspathTest.jar"
   ]
  },
  {
   "cell_type": "code",
   "execution_count": 6,
   "metadata": {},
   "outputs": [
    {
     "data": {
      "text/plain": [
       "#'beaker_clojure_shell_d26ca152-c349-4e19-9491-8a803ca3c6c8/classpathTest"
      ]
     },
     "execution_count": 6,
     "metadata": {},
     "output_type": "execute_result"
    }
   ],
   "source": [
    "(import com.beaker.BeakerXClasspathTest)\n",
    "(def classpathTest (new BeakerXClasspathTest))"
   ]
  },
  {
   "cell_type": "code",
   "execution_count": 7,
   "metadata": {},
   "outputs": [
    {
     "data": {
      "text/plain": [
       "static_123"
      ]
     },
     "execution_count": 7,
     "metadata": {},
     "output_type": "execute_result"
    }
   ],
   "source": [
    "(BeakerXClasspathTest/staticTest)"
   ]
  },
  {
   "cell_type": "code",
   "execution_count": 8,
   "metadata": {},
   "outputs": [
    {
     "data": {
      "text/plain": [
       "object_123"
      ]
     },
     "execution_count": 8,
     "metadata": {},
     "output_type": "execute_result"
    }
   ],
   "source": [
    "(. classpathTest getObjectTest)"
   ]
  },
  {
   "cell_type": "markdown",
   "metadata": {},
   "source": [
    "## Array of Maps with Properties"
   ]
  },
  {
   "cell_type": "code",
   "execution_count": 9,
   "metadata": {},
   "outputs": [
    {
     "data": {
      "application/vnd.jupyter.widget-view+json": {
       "model_id": "2d5d5a84-9286-4a2d-9828-db81596a6895",
       "version_major": 2,
       "version_minor": 0
      },
      "method": "display_data"
     },
     "metadata": {},
     "output_type": "display_data"
    }
   ],
   "source": [
    "[{:foo 1}{:foo 2}]"
   ]
  },
  {
   "cell_type": "markdown",
   "metadata": {},
   "source": [
    "## Interactive Plot"
   ]
  },
  {
   "cell_type": "code",
   "execution_count": 10,
   "metadata": {},
   "outputs": [
    {
     "data": {
      "application/vnd.jupyter.widget-view+json": {
       "model_id": "e3bf47d8-0096-428f-b478-207d24d92206",
       "version_major": 2,
       "version_minor": 0
      },
      "method": "display_data"
     },
     "metadata": {},
     "output_type": "display_data"
    }
   ],
   "source": [
    "(import '[com.twosigma.beakerx.chart.xychart Plot]\n",
    "        '[com.twosigma.beakerx.chart.xychart.plotitem Line])\n",
    "(doto (Plot.)\n",
    "            (.setTitle \"We Will Control the Title\")\n",
    "            (.setXLabel \"Horizontal\")\n",
    "            (.setYLabel \"Vertical\")\n",
    "            (.add (doto (Line.)\n",
    "                        (.setX [0, 1, 2, 3, 4, 5])\n",
    "                        (.setY [0, 1, 6, 5, 2, 8]))))"
   ]
  },
  {
   "cell_type": "markdown",
   "metadata": {},
   "source": [
    "## EasyForm"
   ]
  },
  {
   "cell_type": "code",
   "execution_count": 11,
   "metadata": {},
   "outputs": [
    {
     "data": {
      "application/vnd.jupyter.widget-view+json": {
       "model_id": "8657b423-c5b9-4b6f-9d3d-f258aa887835",
       "version_major": 2,
       "version_minor": 0
      },
      "method": "display_data"
     },
     "metadata": {},
     "output_type": "display_data"
    }
   ],
   "source": [
    "(def form (doto (com.twosigma.beakerx.easyform.EasyForm. \"Test Form\")\n",
    "                (.addTextField \"Name\")\n",
    "                (.addButton \"Reverse\" \"reverse\")))\n",
    "form"
   ]
  },
  {
   "cell_type": "code",
   "execution_count": 12,
   "metadata": {
    "tags": [
     "reverse"
    ]
   },
   "outputs": [
    {
     "data": {
      "text/plain": [
       "[]"
      ]
     },
     "execution_count": 12,
     "metadata": {},
     "output_type": "execute_result"
    }
   ],
   "source": [
    "(reverse (get form \"Name\"))"
   ]
  },
  {
   "cell_type": "markdown",
   "metadata": {
    "collapsed": true
   },
   "source": [
    "## Import/Unimport magic command"
   ]
  },
  {
   "cell_type": "code",
   "execution_count": 32,
   "metadata": {},
   "outputs": [],
   "source": [
    "%import com.twosigma.beakerx.widget.IntSlider"
   ]
  },
  {
   "cell_type": "code",
   "execution_count": 33,
   "metadata": {},
   "outputs": [
    {
     "data": {
      "application/vnd.jupyter.widget-view+json": {
       "model_id": "a94fc909-7bca-4e47-a1d2-6908700695f4",
       "version_major": 2,
       "version_minor": 0
      },
      "method": "display_data"
     },
     "metadata": {},
     "output_type": "display_data"
    }
   ],
   "source": [
    "(new IntSlider)"
   ]
  },
  {
   "cell_type": "code",
   "execution_count": 34,
   "metadata": {},
   "outputs": [
    {
     "ename": "java.lang.RuntimeException",
     "evalue": " Could not create class while loading notebook",
     "output_type": "error",
     "traceback": [
      "\u001b[1;31mjava.lang.RuntimeException: Could not create class while loading notebook: java.nio.file.*\u001b[0;0m"
     ]
    }
   ],
   "source": [
    "%unimport com.twosigma.beakerx.widget.IntSlider"
   ]
  },
  {
   "cell_type": "code",
   "execution_count": 35,
   "metadata": {},
   "outputs": [
    {
     "ename": "java.lang.IllegalArgumentException",
     "evalue": " Unable to resolve classname",
     "output_type": "error",
     "traceback": [
      "\u001b[1;31mjava.lang.IllegalArgumentException: Unable to resolve classname: IntSlider\u001b[0;0m",
      "\u001b[1;31m\tat clojure.lang.Compiler$NewExpr$Parser.parse(Compiler.java:2656)\u001b[0;0m",
      "\u001b[1;31m\tat clojure.lang.Compiler.analyzeSeq(Compiler.java:7003)\u001b[0;0m",
      "\u001b[1;31m\tat clojure.lang.Compiler.analyze(Compiler.java:6773)\u001b[0;0m",
      "\u001b[1;31m\tat clojure.lang.Compiler.analyze(Compiler.java:6729)\u001b[0;0m",
      "\u001b[1;31m\tat clojure.lang.Compiler$BodyExpr$Parser.parse(Compiler.java:6100)\u001b[0;0m",
      "\u001b[1;31m\tat clojure.lang.Compiler$FnMethod.parse(Compiler.java:5460)\u001b[0;0m",
      "\u001b[1;31m\tat clojure.lang.Compiler$FnExpr.parse(Compiler.java:4022)\u001b[0;0m",
      "\u001b[1;31m\tat clojure.lang.Compiler.analyzeSeq(Compiler.java:7001)\u001b[0;0m",
      "\u001b[1;31m\tat clojure.lang.Compiler.analyze(Compiler.java:6773)\u001b[0;0m",
      "\u001b[1;31m\tat clojure.lang.Compiler.eval(Compiler.java:7059)\u001b[0;0m",
      "\u001b[1;31m\tat clojure.lang.Compiler.load(Compiler.java:7514)\u001b[0;0m",
      "\u001b[1;31m\tat clojure.lang.Compiler.load(Compiler.java:7461)\u001b[0;0m",
      "\u001b[1;31m\tat clojure.core$load_reader.invokeStatic(core.clj:4053)\u001b[0;0m",
      "\u001b[1;31m\tat clojure.core$load_string.invokeStatic(core.clj:4055)\u001b[0;0m",
      "\u001b[1;31m\tat clojure.core$load_string.invoke(core.clj:4055)\u001b[0;0m",
      "\u001b[1;31m\tat beaker_clojure_shell_d26ca152_c349_4e19_9491_8a803ca3c6c8$run_str_d26ca152_c349_4e19_9491_8a803ca3c6c8.invokeStatic(Unknown Source)\u001b[0;0m",
      "\u001b[1;31m\tat beaker_clojure_shell_d26ca152_c349_4e19_9491_8a803ca3c6c8$run_str_d26ca152_c349_4e19_9491_8a803ca3c6c8.invoke(Unknown Source)\u001b[0;0m",
      "\u001b[1;31m\tat clojure.lang.Var.invoke(Var.java:381)\u001b[0;0m",
      "\u001b[0;31m\tat com.twosigma.beakerx.clojure.evaluator.ClojureEvaluator.runCode(ClojureEvaluator.java:191)\u001b[0;0m",
      "\u001b[0;31m\tat com.twosigma.beakerx.clojure.evaluator.ClojureCodeRunner.call(ClojureCodeRunner.java:46)\u001b[0;0m",
      "\u001b[0;31m\tat com.twosigma.beakerx.clojure.evaluator.ClojureCodeRunner.call(ClojureCodeRunner.java:29)\u001b[0;0m",
      "\u001b[0;31m\tat java.base/java.util.concurrent.FutureTask.run(FutureTask.java:264)\u001b[0;0m",
      "\u001b[0;31m\tat java.base/java.lang.Thread.run(Thread.java:829)\u001b[0;0m"
     ]
    }
   ],
   "source": [
    "(new IntSlider)"
   ]
  },
  {
   "cell_type": "markdown",
   "metadata": {},
   "source": [
    "## IPyVolume visualization widget\n",
    "\n",
    "[ipyvolume](https://github.com/maartenbreddels/ipyvolume) works with Clojure, and the other [3D widgets](../groovy/3D.ipynb) probably work too.  Note, the widget JS needs to be installed in advance of starting the notebook:\n",
    "```\n",
    "conda install -c conda-forge ipyvolume\n",
    "```\n",
    "See the [source of this example](https://github.com/maartenbreddels/ipyvolume/pull/140#issuecomment-394777662)."
   ]
  },
  {
   "cell_type": "code",
   "execution_count": 36,
   "metadata": {},
   "outputs": [
    {
     "data": {
      "application/vnd.jupyter.widget-view+json": {
       "model_id": "",
       "version_major": 2,
       "version_minor": 0
      },
      "method": "display_data"
     },
     "metadata": {},
     "output_type": "display_data"
    },
    {
     "name": "stderr",
     "output_type": "stream",
     "text": [
      "Could not resolve dependencies for:\n",
      "com.github.twosigma : ipyvolume : master-SNAPSHOT : jar\n"
     ]
    }
   ],
   "source": [
    "%classpath add mvn com.github.twosigma ipyvolume master-SNAPSHOT"
   ]
  },
  {
   "cell_type": "code",
   "execution_count": 37,
   "metadata": {},
   "outputs": [
    {
     "ename": "java.lang.ClassNotFoundException",
     "evalue": " ipyvolume.PyLab",
     "output_type": "error",
     "traceback": [
      "\u001b[1;31mjava.lang.ClassNotFoundException: ipyvolume.PyLab\u001b[0;0m",
      "\u001b[1;31m\tat java.base/java.net.URLClassLoader.findClass(URLClassLoader.java:476)\u001b[0;0m",
      "\u001b[1;31m\tat clojure.lang.DynamicClassLoader.findClass(DynamicClassLoader.java:69)\u001b[0;0m",
      "\u001b[1;31m\tat java.base/java.lang.ClassLoader.loadClass(ClassLoader.java:589)\u001b[0;0m",
      "\u001b[1;31m\tat clojure.lang.DynamicClassLoader.loadClass(DynamicClassLoader.java:77)\u001b[0;0m",
      "\u001b[1;31m\tat java.base/java.lang.ClassLoader.loadClass(ClassLoader.java:522)\u001b[0;0m",
      "\u001b[1;31m\tat java.base/java.lang.Class.forName0(Native Method)\u001b[0;0m",
      "\u001b[1;31m\tat java.base/java.lang.Class.forName(Class.java:398)\u001b[0;0m",
      "\u001b[1;31m\tat clojure.lang.RT.classForName(RT.java:2204)\u001b[0;0m",
      "\u001b[1;31m\tat clojure.lang.RT.classForNameNonLoading(RT.java:2217)\u001b[0;0m",
      "\u001b[1;31m\tat beaker_clojure_shell_d26ca152_c349_4e19_9491_8a803ca3c6c8$eval359.invokeStatic(Unknown Source)\u001b[0;0m",
      "\u001b[1;31m\tat beaker_clojure_shell_d26ca152_c349_4e19_9491_8a803ca3c6c8$eval359.invoke(Unknown Source)\u001b[0;0m",
      "\u001b[1;31m\tat clojure.lang.Compiler.eval(Compiler.java:7062)\u001b[0;0m",
      "\u001b[1;31m\tat clojure.lang.Compiler.eval(Compiler.java:7052)\u001b[0;0m",
      "\u001b[1;31m\tat clojure.lang.Compiler.load(Compiler.java:7514)\u001b[0;0m",
      "\u001b[1;31m\tat clojure.lang.Compiler.load(Compiler.java:7461)\u001b[0;0m",
      "\u001b[1;31m\tat clojure.core$load_reader.invokeStatic(core.clj:4053)\u001b[0;0m",
      "\u001b[1;31m\tat clojure.core$load_string.invokeStatic(core.clj:4055)\u001b[0;0m",
      "\u001b[1;31m\tat clojure.core$load_string.invoke(core.clj:4055)\u001b[0;0m",
      "\u001b[1;31m\tat beaker_clojure_shell_d26ca152_c349_4e19_9491_8a803ca3c6c8$run_str_d26ca152_c349_4e19_9491_8a803ca3c6c8.invokeStatic(Unknown Source)\u001b[0;0m",
      "\u001b[1;31m\tat beaker_clojure_shell_d26ca152_c349_4e19_9491_8a803ca3c6c8$run_str_d26ca152_c349_4e19_9491_8a803ca3c6c8.invoke(Unknown Source)\u001b[0;0m",
      "\u001b[1;31m\tat clojure.lang.Var.invoke(Var.java:381)\u001b[0;0m",
      "\u001b[0;31m\tat com.twosigma.beakerx.clojure.evaluator.ClojureEvaluator.runCode(ClojureEvaluator.java:191)\u001b[0;0m",
      "\u001b[0;31m\tat com.twosigma.beakerx.clojure.evaluator.ClojureCodeRunner.call(ClojureCodeRunner.java:46)\u001b[0;0m",
      "\u001b[0;31m\tat com.twosigma.beakerx.clojure.evaluator.ClojureCodeRunner.call(ClojureCodeRunner.java:29)\u001b[0;0m",
      "\u001b[0;31m\tat java.base/java.util.concurrent.FutureTask.run(FutureTask.java:264)\u001b[0;0m",
      "\u001b[0;31m\tat java.base/java.lang.Thread.run(Thread.java:829)\u001b[0;0m"
     ]
    }
   ],
   "source": [
    "(import ipyvolume.PyLab)\n",
    "\n",
    "(defn ball \n",
    "    [size radius]\n",
    "    (let [data           (make-array Float/TYPE size size size)\n",
    "          square         #(* % %)\n",
    "          center         #(- % (/ size 2))\n",
    "          sum            (partial reduce +)\n",
    "          sum-of-squares #(sum (map square %))]\n",
    "        (doseq [i (range size)\n",
    "                j (range size)\n",
    "                k (range size)\n",
    "                :let [[x y z] (map center [i j k])] \n",
    "                :when (> (square radius) \n",
    "                         (sum-of-squares [x y z]))]\n",
    "             (aset data i j k (float 1)))\n",
    "        data))\n",
    "(PyLab/volShow (ball 32 12))"
   ]
  }
 ],
 "metadata": {
  "beakerx_kernel_parameters": {},
  "kernelspec": {
   "display_name": "Clojure",
   "language": "clojure",
   "name": "clojure"
  },
  "language_info": {
   "codemirror_mode": "Clojure",
   "file_extension": ".clj",
   "mimetype": "text/x-clojure",
   "name": "Clojure",
   "nbconverter_exporter": "",
   "version": "1.9.0"
  },
  "toc": {
   "base_numbering": 1,
   "nav_menu": {},
   "number_sections": false,
   "sideBar": false,
   "skip_h1_title": false,
   "title_cell": "Table of Contents",
   "title_sidebar": "Contents",
   "toc_cell": false,
   "toc_position": {},
   "toc_section_display": false,
   "toc_window_display": false
  }
 },
 "nbformat": 4,
 "nbformat_minor": 2
}
