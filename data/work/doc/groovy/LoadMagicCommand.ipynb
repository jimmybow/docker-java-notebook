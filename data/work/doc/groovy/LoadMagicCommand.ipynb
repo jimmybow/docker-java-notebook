{
 "cells": [
  {
   "cell_type": "markdown",
   "metadata": {},
   "source": [
    "# Define New Magics\n",
    "\n",
    "There is an API to define your own magics. See the source code for the jar: [ShowEnvsCustomMagicCommand.java](https://github.com/twosigma/beakerx/blob/master/kernel/demoProjects/loadMagicJarDemo/src/main/java/com/twosigma/beakerx/custom/magic/command/ShowEnvsCustomMagicCommand.java)."
   ]
  },
  {
   "cell_type": "code",
   "execution_count": null,
   "metadata": {},
   "outputs": [],
   "source": [
    "%classpath add jar ../resources/jar/loadMagicJarDemo.jar"
   ]
  },
  {
   "cell_type": "code",
   "execution_count": null,
   "metadata": {},
   "outputs": [],
   "source": [
    "%load_magic com.twosigma.beakerx.custom.magic.command.ShowEnvsCustomMagicCommand"
   ]
  },
  {
   "cell_type": "code",
   "execution_count": null,
   "metadata": {},
   "outputs": [],
   "source": [
    "%showEnvs"
   ]
  }
 ],
 "metadata": {
  "kernelspec": {
   "display_name": "Groovy",
   "language": "groovy",
   "name": "groovy"
  },
  "language_info": {
   "codemirror_mode": "groovy",
   "file_extension": ".groovy",
   "mimetype": "",
   "name": "Groovy",
   "nbconverter_exporter": "",
   "version": "2.4.3"
  },
  "widgets": {
   "application/vnd.jupyter.widget-state+json": {
    "state": {},
    "version_major": 2,
    "version_minor": 0
   }
  }
 },
 "nbformat": 4,
 "nbformat_minor": 2
}
