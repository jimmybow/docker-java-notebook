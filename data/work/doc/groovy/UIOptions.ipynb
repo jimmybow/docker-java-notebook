{
 "cells": [
  {
   "cell_type": "markdown",
   "metadata": {},
   "source": [
    "# UI Options\n",
    "\n",
    "BeakerX has a control panel for customizing the Jupyter UI.  It's located in the BeakerX tab added to the tree view.\n",
    "\n",
    "The settings are stored in your `~/.jupyter/beakerx.json` file.\n",
    "\n",
    "Note that if you change the values in the UI, already open notebooks are not effected, only new ones.  You can save and then reload an old window to update it with your new settings.\n",
    "\n",
    "The settings are:\n",
    "* **Autoclose brackets** by default Jupyter code editor automatically closes brackets.  Uncheck to disable.\n",
    "* **Wide code cells** by default Jupyter cell widths are limited.  BeakerX makes cells as wide as the browser window.  Uncheck to return to Jupyter's style.\n",
    "* **Customize fonts** replace the default fonts with Roboto Mono (for code) and Lato (for markdown).\n",
    "* **Show publication button and menu item** Uncheck this to hide the UI that posts to GitHub, disabling the publication feature.\n",
    "* **Show catalog button** Check this to show the data catalog sidebar and enable dragging of examples into the notebook.\n",
    "* **Autosave notebooks** by default Jupyter autosaves notebooks every minute.  Uncheck to only save on demand."
   ]
  }
 ],
 "metadata": {
  "kernelspec": {
   "display_name": "Python 3",
   "language": "python",
   "name": "python3"
  },
  "language_info": {
   "codemirror_mode": {
    "name": "ipython",
    "version": 3
   },
   "file_extension": ".py",
   "mimetype": "text/x-python",
   "name": "python",
   "nbconvert_exporter": "python",
   "pygments_lexer": "ipython3",
   "version": "3.6.5"
  }
 },
 "nbformat": 4,
 "nbformat_minor": 2
}
