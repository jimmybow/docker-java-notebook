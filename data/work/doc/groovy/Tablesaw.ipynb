{
 "cells": [
  {
   "cell_type": "markdown",
   "metadata": {},
   "source": [
    "# Tablesaw \n",
    "\n",
    "[Tablesaw](https://tablesaw.tech/) is easy to add to the BeakerX Groovy kernel.\n",
    "Tablesaw provides the ability to easily transform, summarize, and filter data, as well as computing descriptive statistics and fundamental machine learning algorithms.\n",
    "\n",
    "This notebook has some basic demos of how to use Tablesaw, including visualizing the results.  This notebook uses the Beaker interactive visualizaiton libraries, but Tablesaw's APIs also work.  The notebook covers basic table manipulation, k-means clustering, and linear regression."
   ]
  },
  {
   "cell_type": "code",
   "execution_count": 28,
   "metadata": {},
   "outputs": [
    {
     "data": {
      "application/vnd.jupyter.widget-view+json": {
       "model_id": "",
       "version_major": 2,
       "version_minor": 0
      },
      "method": "display_data"
     },
     "metadata": {},
     "output_type": "display_data"
    }
   ],
   "source": [
    "%%classpath add mvn\n",
    "tech.tablesaw tablesaw-plot 0.11.4\n",
    "tech.tablesaw tablesaw-smile 0.11.4\n",
    "tech.tablesaw tablesaw-beakerx 0.11.4"
   ]
  },
  {
   "cell_type": "code",
   "execution_count": 29,
   "metadata": {},
   "outputs": [
    {
     "data": {
      "text/plain": [
       "null"
      ]
     },
     "execution_count": 29,
     "metadata": {},
     "output_type": "execute_result"
    }
   ],
   "source": [
    "%import tech.tablesaw.aggregate.*\n",
    "%import tech.tablesaw.api.*\n",
    "%import tech.tablesaw.api.ml.clustering.*\n",
    "%import tech.tablesaw.api.ml.regression.*\n",
    "%import tech.tablesaw.columns.*\n",
    "\n",
    "// display Tablesaw tables with BeakerX table display widget\n",
    "tech.tablesaw.beakerx.TablesawDisplayer.register()"
   ]
  },
  {
   "cell_type": "code",
   "execution_count": 30,
   "metadata": {},
   "outputs": [
    {
     "data": {
      "application/vnd.jupyter.widget-view+json": {
       "model_id": "070cbf1d-676b-4482-b5f4-f323e6ea8a96",
       "version_major": 2,
       "version_minor": 0
      },
      "method": "display_data"
     },
     "metadata": {},
     "output_type": "display_data"
    }
   ],
   "source": [
    "tornadoes = Table.read().csv(\"../resources/data/tornadoes_2014.csv\")"
   ]
  },
  {
   "cell_type": "code",
   "execution_count": 31,
   "metadata": {},
   "outputs": [
    {
     "data": {
      "application/vnd.jupyter.widget-view+json": {
       "model_id": "0c9923d6-7ca5-44fe-8f48-66a5fe988fb5",
       "version_major": 2,
       "version_minor": 0
      },
      "method": "display_data"
     },
     "metadata": {},
     "output_type": "display_data"
    }
   ],
   "source": [
    "//print dataset structure\n",
    "tornadoes.structure()"
   ]
  },
  {
   "cell_type": "code",
   "execution_count": 32,
   "metadata": {},
   "outputs": [
    {
     "data": {
      "text/plain": [
       "[Date, Time, State, State No, Scale, Injuries, Fatalities, Start Lat, Start Lon, Length, Width]"
      ]
     },
     "execution_count": 32,
     "metadata": {},
     "output_type": "execute_result"
    }
   ],
   "source": [
    "//get header names\n",
    "tornadoes.columnNames()"
   ]
  },
  {
   "cell_type": "code",
   "execution_count": 33,
   "metadata": {},
   "outputs": [
    {
     "data": {
      "text/plain": [
       "908 rows X 11 cols"
      ]
     },
     "execution_count": 33,
     "metadata": {},
     "output_type": "execute_result"
    }
   ],
   "source": [
    "//displays the row and column counts\n",
    "tornadoes.shape()"
   ]
  },
  {
   "cell_type": "code",
   "execution_count": 34,
   "metadata": {},
   "outputs": [
    {
     "data": {
      "application/vnd.jupyter.widget-view+json": {
       "model_id": "e9c7941c-32b5-495f-8b2e-dcae26f766e9",
       "version_major": 2,
       "version_minor": 0
      },
      "method": "display_data"
     },
     "metadata": {},
     "output_type": "display_data"
    }
   ],
   "source": [
    "//displays the first n rows\n",
    "tornadoes.first(10)"
   ]
  },
  {
   "cell_type": "code",
   "execution_count": 35,
   "metadata": {},
   "outputs": [
    {
     "data": {
      "application/vnd.jupyter.widget-view+json": {
       "model_id": "fc71441a-896b-4984-ae5c-ed6bc2bde511",
       "version_major": 2,
       "version_minor": 0
      },
      "method": "display_data"
     },
     "metadata": {},
     "output_type": "display_data"
    }
   ],
   "source": [
    "import static tech.tablesaw.api.QueryHelper.column\n",
    "tornadoes.structure().selectWhere(column(\"Column Type\").isEqualTo(\"FLOAT\"))"
   ]
  },
  {
   "cell_type": "code",
   "execution_count": 36,
   "metadata": {},
   "outputs": [
    {
     "data": {
      "text/plain": [
       "\n",
       "Table summary for: tornadoes_2014.csv\n",
       "       Column: Date        \n",
       " Measure   |    Value     |\n",
       "---------------------------\n",
       "    Count  |         908  |\n",
       "  Missing  |           0  |\n",
       " Earliest  |  2014-01-11  |\n",
       "   Latest  |  2014-12-29  |\n",
       "     Column: Time     \n",
       " Measure   |  Value  |\n",
       "----------------------\n",
       "    Count  |    908  |\n",
       "  Missing  |      0  |\n",
       " Earliest  |  00:01  |\n",
       "   Latest  |  23:59  |\n",
       "    Column: State     \n",
       " Category  |  Count  |\n",
       "----------------------\n",
       "       GA  |     32  |\n",
       "       NM  |     15  |\n",
       "       MT  |      8  |\n",
       "       CO  |     49  |\n",
       "       WV  |      9  |\n",
       "       IN  |     28  |\n",
       "       MD  |      2  |\n",
       "       CA  |      9  |\n",
       "       AL  |     55  |\n",
       "       TN  |     18  |\n",
       "      ...  |    ...  |\n",
       "       MO  |     47  |\n",
       "       ME  |      4  |\n",
       "       LA  |     15  |\n",
       "       MI  |     13  |\n",
       "       SC  |      7  |\n",
       "       KY  |     28  |\n",
       "       MA  |      3  |\n",
       "       CT  |      1  |\n",
       "       NH  |      2  |\n",
       "   Column: State No   \n",
       " Measure   |  Value  |\n",
       "----------------------\n",
       "        n  |  908.0  |\n",
       "      sum  |    0.0  |\n",
       "     Mean  |    0.0  |\n",
       "      Min  |    0.0  |\n",
       "      Max  |    0.0  |\n",
       "    Range  |    0.0  |\n",
       " Variance  |    0.0  |\n",
       " Std. Dev  |    0.0  |\n",
       "       Column: Scale       \n",
       " Measure   |    Value     |\n",
       "---------------------------\n",
       "        n  |       908.0  |\n",
       "      sum  |       567.0  |\n",
       "     Mean  |   0.6244493  |\n",
       "      Min  |         0.0  |\n",
       "      Max  |         4.0  |\n",
       "    Range  |         4.0  |\n",
       " Variance  |   0.6272737  |\n",
       " Std. Dev  |  0.79200613  |\n",
       "     Column: Injuries      \n",
       " Measure   |    Value     |\n",
       "---------------------------\n",
       "        n  |       908.0  |\n",
       "      sum  |       684.0  |\n",
       "     Mean  |  0.75330395  |\n",
       "      Min  |         0.0  |\n",
       "      Max  |       193.0  |\n",
       "    Range  |       193.0  |\n",
       " Variance  |    57.68108  |\n",
       " Std. Dev  |    7.594806  |\n",
       "     Column: Fatalities     \n",
       " Measure   |     Value     |\n",
       "----------------------------\n",
       "        n  |        908.0  |\n",
       "      sum  |         48.0  |\n",
       "     Mean  |  0.052863438  |\n",
       "      Min  |          0.0  |\n",
       "      Max  |         16.0  |\n",
       "    Range  |         16.0  |\n",
       " Variance  |   0.44262686  |\n",
       " Std. Dev  |    0.6653021  |\n",
       "    Column: Start Lat     \n",
       " Measure   |    Value    |\n",
       "--------------------------\n",
       "        n  |      908.0  |\n",
       "      sum  |  34690.984  |\n",
       "     Mean  |   38.20593  |\n",
       "      Min  |        0.0  |\n",
       "      Max  |      48.86  |\n",
       "    Range  |      48.86  |\n",
       " Variance  |  22.448586  |\n",
       " Std. Dev  |  4.7379937  |\n",
       "    Column: Start Lon     \n",
       " Measure   |    Value    |\n",
       "--------------------------\n",
       "        n  |      908.0  |\n",
       "      sum  |  -83613.02  |\n",
       "     Mean  |  -92.08483  |\n",
       "      Min  |   -122.946  |\n",
       "      Max  |        0.0  |\n",
       "    Range  |    122.946  |\n",
       " Variance  |   91.84773  |\n",
       " Std. Dev  |   9.583722  |\n",
       "      Column: Length      \n",
       " Measure   |    Value    |\n",
       "--------------------------\n",
       "        n  |      908.0  |\n",
       "      sum  |    3014.49  |\n",
       "     Mean  |   3.319923  |\n",
       "      Min  |        0.0  |\n",
       "      Max  |      45.68  |\n",
       "    Range  |      45.68  |\n",
       " Variance  |  28.736567  |\n",
       " Std. Dev  |  5.3606496  |\n",
       "      Column: Width       \n",
       " Measure   |    Value    |\n",
       "--------------------------\n",
       "        n  |      908.0  |\n",
       "      sum  |   149778.0  |\n",
       "     Mean  |  164.95375  |\n",
       "      Min  |        0.0  |\n",
       "      Max  |     2640.0  |\n",
       "    Range  |     2640.0  |\n",
       " Variance  |  57764.465  |\n",
       " Std. Dev  |  240.34239  |\n",
       "\n"
      ]
     },
     "execution_count": 36,
     "metadata": {},
     "output_type": "execute_result"
    }
   ],
   "source": [
    "//summarize the data in each column\n",
    "tornadoes.summary()"
   ]
  },
  {
   "cell_type": "code",
   "execution_count": 37,
   "metadata": {},
   "outputs": [
    {
     "data": {
      "text/plain": [
       "[Date, Time, State, State No, Scale, Injuries, Fatalities, Start Lat, Start Lon, Length, Width, Date month]"
      ]
     },
     "execution_count": 37,
     "metadata": {},
     "output_type": "execute_result"
    }
   ],
   "source": [
    "//Mapping operations\n",
    "def month = tornadoes.dateColumn(\"Date\").month()\n",
    "tornadoes.addColumn(month);\n",
    "tornadoes.columnNames()"
   ]
  },
  {
   "cell_type": "code",
   "execution_count": 38,
   "metadata": {},
   "outputs": [
    {
     "data": {
      "application/vnd.jupyter.widget-view+json": {
       "model_id": "ab4700de-556d-4846-9d47-571e7a65d659",
       "version_major": 2,
       "version_minor": 0
      },
      "method": "display_data"
     },
     "metadata": {},
     "output_type": "display_data"
    }
   ],
   "source": [
    "//Sorting by column\n",
    "tornadoes.sortOn(\"-Fatalities\")"
   ]
  },
  {
   "cell_type": "code",
   "execution_count": 39,
   "metadata": {},
   "outputs": [
    {
     "data": {
      "application/vnd.jupyter.widget-view+json": {
       "model_id": "648221ee-bad3-41f9-a391-5f496859e310",
       "version_major": 2,
       "version_minor": 0
      },
      "method": "display_data"
     },
     "metadata": {},
     "output_type": "display_data"
    }
   ],
   "source": [
    "//Descriptive statistics\n",
    "tornadoes.column(\"Fatalities\").summary()"
   ]
  },
  {
   "cell_type": "code",
   "execution_count": 40,
   "metadata": {},
   "outputs": [
    {
     "data": {
      "application/vnd.jupyter.widget-view+json": {
       "model_id": "ef7441bf-3f17-4b08-bcb3-8dc0674a4942",
       "version_major": 2,
       "version_minor": 0
      },
      "method": "display_data"
     },
     "metadata": {},
     "output_type": "display_data"
    }
   ],
   "source": [
    "//Performing totals and sub-totals\n",
    "def injuriesByScale = tornadoes.median(\"Injuries\").by(\"Scale\")\n",
    "injuriesByScale.setName(\"Median injuries by Tornado Scale\")\n",
    "injuriesByScale"
   ]
  },
  {
   "cell_type": "code",
   "execution_count": 41,
   "metadata": {},
   "outputs": [
    {
     "data": {
      "application/vnd.jupyter.widget-view+json": {
       "model_id": "4fd33c2d-9482-496e-8416-6f78de40ac47",
       "version_major": 2,
       "version_minor": 0
      },
      "method": "display_data"
     },
     "metadata": {},
     "output_type": "display_data"
    }
   ],
   "source": [
    "//Cross Tabs\n",
    "CrossTab.xCount(tornadoes, tornadoes.categoryColumn(\"State\"), tornadoes.shortColumn(\"Scale\"))"
   ]
  },
  {
   "cell_type": "markdown",
   "metadata": {},
   "source": [
    "## K-means clustering\n",
    "\n",
    "K-means is the most common form of “centroid” clustering. Unlike classification, clustering is an unsupervised learning method. The categories are not predetermined. Instead, the goal is to search for natural groupings in the dataset, such that the members of each group are similar to each other and different from the members of the other groups. The K represents the number of groups to find.\n",
    "\n",
    "We’ll use a well known Scotch Whiskey dataset, which is used to cluster whiskeys according to their taste based on data collected from tasting notes. As always, we start by loading data and printing its structure.\n",
    "\n",
    "More description is available at https://jtablesaw.wordpress.com/2016/08/08/k-means-clustering-in-java/"
   ]
  },
  {
   "cell_type": "code",
   "execution_count": 42,
   "metadata": {},
   "outputs": [
    {
     "data": {
      "application/vnd.jupyter.widget-view+json": {
       "model_id": "cce75a9a-55c5-4817-bb6d-0d480aafa7f1",
       "version_major": 2,
       "version_minor": 0
      },
      "method": "display_data"
     },
     "metadata": {},
     "output_type": "display_data"
    }
   ],
   "source": [
    "t = Table.read().csv(\"../resources/data/whiskey.csv\")\n",
    "t.structure()"
   ]
  },
  {
   "cell_type": "code",
   "execution_count": 43,
   "metadata": {},
   "outputs": [
    {
     "data": {
      "application/vnd.jupyter.widget-view+json": {
       "model_id": "fa68944a-3c9d-48a2-961c-2626f7a77126",
       "version_major": 2,
       "version_minor": 0
      },
      "method": "display_data"
     },
     "metadata": {},
     "output_type": "display_data"
    }
   ],
   "source": [
    "model = new Kmeans(\n",
    "    5,\n",
    "    t.nCol(2), t.nCol(3), t.nCol(4), t.nCol(5), t.nCol(6), t.nCol(7),\n",
    "    t.nCol(8), t.nCol(9), t.nCol(10), t.nCol(11), t.nCol(12), t.nCol(13)\n",
    ");\n",
    "\n",
    "//print claster formation\n",
    "model.clustered(t.column(\"Distillery\"));"
   ]
  },
  {
   "cell_type": "code",
   "execution_count": 44,
   "metadata": {},
   "outputs": [
    {
     "data": {
      "application/vnd.jupyter.widget-view+json": {
       "model_id": "491952cd-b6ac-4ecc-8b6c-657cc343f663",
       "version_major": 2,
       "version_minor": 0
      },
      "method": "display_data"
     },
     "metadata": {},
     "output_type": "display_data"
    }
   ],
   "source": [
    "//print centroids for each claster\n",
    "model.labeledCentroids();"
   ]
  },
  {
   "cell_type": "code",
   "execution_count": 45,
   "metadata": {},
   "outputs": [
    {
     "data": {
      "text/plain": [
       "380.46206896551723"
      ]
     },
     "execution_count": 45,
     "metadata": {},
     "output_type": "execute_result"
    }
   ],
   "source": [
    "//gets the distortion for our model\n",
    "model.distortion()"
   ]
  },
  {
   "cell_type": "code",
   "execution_count": 46,
   "metadata": {},
   "outputs": [
    {
     "data": {
      "application/vnd.jupyter.widget-view+json": {
       "model_id": "ffa0415d-895f-4842-a342-307bf289f611",
       "version_major": 2,
       "version_minor": 0
      },
      "method": "display_data"
     },
     "metadata": {},
     "output_type": "display_data"
    }
   ],
   "source": [
    "def n = t.rowCount();\n",
    "def kValues = new double[n - 2];\n",
    "def distortions = new double[n - 2];\n",
    "\n",
    "for (int k = 2; k < n; k++) {\n",
    "  kValues[k - 2] = k;\n",
    "  def kmeans = new Kmeans(k,\n",
    "      t.nCol(2), t.nCol(3), t.nCol(4), t.nCol(5), t.nCol(6), t.nCol(7),\n",
    "      t.nCol(8), t.nCol(9), t.nCol(10), t.nCol(11), t.nCol(12), t.nCol(13)\n",
    "  );\n",
    "  distortions[k - 2] = kmeans.distortion();\n",
    "}\n",
    "def linearYPlot = new Plot(title: \"K-means clustering demo\", xLabel:\"K\", yLabel: \"distortion\")\n",
    "linearYPlot << new Line(x: kValues, y: distortions)"
   ]
  },
  {
   "cell_type": "markdown",
   "metadata": {},
   "source": [
    "## Play (Money)ball with Linear Regression\n",
    "\n",
    "In baseball, you make the playoffs by winning more games than your rivals. The number of games the rivals win is out of your control so the A’s looked instead at how many wins it took historically to make the playoffs. They decided that 95 wins would give them a strong chance.  Here’s how we might check that assumption in Tablesaw.\n",
    "\n",
    "More description is available at https://jtablesaw.wordpress.com/2016/07/31/play-moneyball-data-science-in-tablesaw/"
   ]
  },
  {
   "cell_type": "code",
   "execution_count": 47,
   "metadata": {},
   "outputs": [
    {
     "data": {
      "application/vnd.jupyter.widget-view+json": {
       "model_id": "d0037da4-de1a-4279-a517-76e3db199316",
       "version_major": 2,
       "version_minor": 0
      },
      "method": "display_data"
     },
     "metadata": {},
     "output_type": "display_data"
    }
   ],
   "source": [
    "import static tech.tablesaw.api.QueryHelper.column\n",
    "\n",
    "baseball = Table.read().csv(\"../resources/data/baseball.csv\");\n",
    "\n",
    "// filter to the data available at the start of the 2002 season\n",
    "moneyball = baseball.selectWhere(column(\"year\").isLessThan(2002));\n",
    "wins = moneyball.nCol(\"W\");\n",
    "year = moneyball.nCol(\"Year\");\n",
    "playoffs = moneyball.column(\"Playoffs\");\n",
    "runDifference = moneyball.shortColumn(\"RS\").subtract(moneyball.shortColumn(\"RA\"));\n",
    "moneyball.addColumn(runDifference);\n",
    "runDifference.setName(\"RD\");\n",
    "\n",
    "def Plot = new Plot(title: \"RD x Wins\", xLabel:\"RD\", yLabel: \"W\")\n",
    "Plot << new Points(x: moneyball.numericColumn(\"RD\").toDoubleArray(), y: moneyball.numericColumn(\"W\").toDoubleArray())"
   ]
  },
  {
   "cell_type": "code",
   "execution_count": 48,
   "metadata": {},
   "outputs": [
    {
     "data": {
      "text/plain": [
       "Linear Model:\n",
       "\n",
       "Residuals:\n",
       "\t       Min\t        1Q\t    Median\t        3Q\t       Max\n",
       "\t  -14.2662\t   -2.6511\t    0.1282\t    2.9365\t   11.6570\n",
       "\n",
       "Coefficients:\n",
       "            Estimate        Std. Error        t value        Pr(>|t|)\n",
       "(Intercept)    80.8814            0.1312       616.6747          0.0000 ***\n",
       "RD              0.1058            0.0013        81.5536          0.0000 ***\n",
       "---------------------------------------------------------------------\n",
       "Significance codes:  0 '***' 0.001 '**' 0.01 '*' 0.05 '.' 0.1 ' ' 1\n",
       "\n",
       "Residual standard error: 3.9391 on 900 degrees of freedom\n",
       "Multiple R-squared: 0.8808,    Adjusted R-squared: 0.8807\n",
       "F-statistic: 6650.9926 on 1 and 900 DF,  p-value: 0.000\n"
      ]
     },
     "execution_count": 48,
     "metadata": {},
     "output_type": "execute_result"
    }
   ],
   "source": [
    "winsModel = LeastSquares.train(wins, runDifference);"
   ]
  },
  {
   "cell_type": "code",
   "execution_count": 49,
   "metadata": {},
   "outputs": [
    {
     "data": {
      "text/plain": [
       "Linear Model:\n",
       "\n",
       "Residuals:\n",
       "\t       Min\t        1Q\t    Median\t        3Q\t       Max\n",
       "\t  -70.8379\t  -17.1810\t   -1.0917\t   16.7812\t   90.0358\n",
       "\n",
       "Coefficients:\n",
       "            Estimate        Std. Error        t value        Pr(>|t|)\n",
       "(Intercept)  -804.6271           18.9208       -42.5261          0.0000 ***\n",
       "OBP          2737.7682           90.6846        30.1900          0.0000 ***\n",
       "SLG          1584.9085           42.1556        37.5966          0.0000 ***\n",
       "---------------------------------------------------------------------\n",
       "Significance codes:  0 '***' 0.001 '**' 0.01 '*' 0.05 '.' 0.1 ' ' 1\n",
       "\n",
       "Residual standard error: 24.7900 on 899 degrees of freedom\n",
       "Multiple R-squared: 0.9296,    Adjusted R-squared: 0.9294\n",
       "F-statistic: 5933.7256 on 2 and 899 DF,  p-value: 0.000\n"
      ]
     },
     "execution_count": 49,
     "metadata": {},
     "output_type": "execute_result"
    }
   ],
   "source": [
    "def runDiff = new double[1];\n",
    "runDiff[0] = 135;\n",
    "def expectedWins = winsModel.predict(runDiff);\n",
    "runsScored2 = LeastSquares.train(moneyball.nCol(\"RS\"), moneyball.nCol(\"OBP\"), moneyball.nCol(\"SLG\"));"
   ]
  },
  {
   "cell_type": "code",
   "execution_count": 50,
   "metadata": {},
   "outputs": [
    {
     "data": {
      "application/vnd.jupyter.widget-view+json": {
       "model_id": "a7beb23e-b622-4fae-b73f-c56d2a5ed87e",
       "version_major": 2,
       "version_minor": 0
      },
      "method": "display_data"
     },
     "metadata": {},
     "output_type": "display_data"
    }
   ],
   "source": [
    "new Histogram(xLabel:\"X\",\n",
    "              yLabel:\"Proportion\",\n",
    "              data: Arrays.asList(runsScored2.residuals()), \n",
    "              binCount: 25);"
   ]
  },
  {
   "cell_type": "markdown",
   "metadata": {},
   "source": [
    "## Financial and Economic Data\n",
    "\n",
    "You can fetch data from [Quandl](https://www.quandl.com/) and load it directly into Tablesaw"
   ]
  },
  {
   "cell_type": "code",
   "execution_count": 55,
   "metadata": {},
   "outputs": [
    {
     "data": {
      "application/vnd.jupyter.widget-view+json": {
       "model_id": "",
       "version_major": 2,
       "version_minor": 0
      },
      "method": "display_data"
     },
     "metadata": {},
     "output_type": "display_data"
    }
   ],
   "source": [
    "%%classpath add mvn\n",
    "com.jimmoores quandl-tablesaw 2.0.0\n",
    "javax.activation activation 1.1.1"
   ]
  },
  {
   "cell_type": "code",
   "execution_count": 56,
   "metadata": {},
   "outputs": [],
   "source": [
    "%import com.jimmoores.quandl.*\n",
    "%import com.jimmoores.quandl.tablesaw.*"
   ]
  },
  {
   "cell_type": "code",
   "execution_count": 57,
   "metadata": {},
   "outputs": [
    {
     "data": {
      "application/vnd.jupyter.widget-view+json": {
       "model_id": "7fc1d69f-f511-4691-a359-3537071d5845",
       "version_major": 2,
       "version_minor": 0
      },
      "method": "display_data"
     },
     "metadata": {},
     "output_type": "display_data"
    }
   ],
   "source": [
    "TableSawQuandlSession session = TableSawQuandlSession.create();\n",
    "Table table = session.getDataSet(DataSetRequest.Builder.of(\"WIKI/AAPL\").build());\n",
    "// Create a new column containing the year\n",
    "ShortColumn yearColumn = table.dateColumn(\"Date\").year();\n",
    "yearColumn.setName(\"Year\");\n",
    "table.addColumn(yearColumn);\n",
    "// Create max, min and total volume tables aggregated by year\n",
    "Table summaryMax = table.groupBy(\"year\").max(\"Adj. Close\");\n",
    "Table summaryMin = table.groupBy(\"year\").min(\"Adj. Close\");\n",
    "Table summaryVolume = table.groupBy(\"year\")sum(\"Volume\");\n",
    "// Create a new table from each of these\n",
    "summary = Table.create(\"Summary\", summaryMax.column(0), summaryMax.column(1), \n",
    "                       summaryMin.column(1), summaryVolume.column(1));\n",
    "// Add back a DateColumn to the summary...will be used for plotting\n",
    "DateColumn yearDates = new DateColumn(\"YearDate\");\n",
    "for(year in summary.column('Year')){\n",
    "    yearDates.append(java.time.LocalDate.of(year,1,1));\n",
    "}\n",
    "summary.addColumn(yearDates)\n",
    "\n",
    "summary"
   ]
  },
  {
   "cell_type": "code",
   "execution_count": 58,
   "metadata": {},
   "outputs": [
    {
     "data": {
      "application/vnd.jupyter.widget-view+json": {
       "model_id": "855aa29a-ad6d-4486-852e-f1db2d7cc3ed",
       "version_major": 2,
       "version_minor": 0
      },
      "method": "display_data"
     },
     "metadata": {},
     "output_type": "display_data"
    }
   ],
   "source": [
    "years = summary.column('YearDate').collect()\n",
    "\n",
    "plot = new TimePlot(title: 'Price Chart for AAPL', xLabel: 'Time', yLabel: 'Max [Adj. Close]')\n",
    "plot << new YAxis(label: 'Volume')\n",
    "plot << new Points(x: years, y: summary.column('Max [Adj. Close]').collect())\n",
    "plot << new Line(x: years, y: summary.column('Max [Adj. Close]').collect(), color: Color.blue)\n",
    "plot << new Stems(x: years, y: summary.column('Sum [Volume]').collect(), yAxis: 'Volume')"
   ]
  },
  {
   "cell_type": "code",
   "execution_count": null,
   "metadata": {},
   "outputs": [],
   "source": []
  }
 ],
 "metadata": {
  "anaconda-cloud": {},
  "kernelspec": {
   "display_name": "Groovy",
   "language": "groovy",
   "name": "groovy"
  },
  "language_info": {
   "codemirror_mode": "groovy",
   "file_extension": ".groovy",
   "mimetype": "",
   "name": "Groovy",
   "nbconverter_exporter": "",
   "version": "3.0.3"
  },
  "toc": {
   "base_numbering": 1,
   "nav_menu": {},
   "number_sections": false,
   "sideBar": false,
   "skip_h1_title": false,
   "title_cell": "Table of Contents",
   "title_sidebar": "Contents",
   "toc_cell": false,
   "toc_position": {},
   "toc_section_display": false,
   "toc_window_display": false
  }
 },
 "nbformat": 4,
 "nbformat_minor": 2
}
