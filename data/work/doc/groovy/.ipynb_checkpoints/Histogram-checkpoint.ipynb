{
 "cells": [
  {
   "cell_type": "markdown",
   "metadata": {},
   "source": [
    "# Histograms"
   ]
  },
  {
   "cell_type": "markdown",
   "metadata": {},
   "source": [
    "In a histogram, the height of each bar (bin) represents the number of data points that fall into its interval.\n",
    "They are generally used to show the distribution of a variable."
   ]
  },
  {
   "cell_type": "code",
   "execution_count": 1,
   "metadata": {},
   "outputs": [
    {
     "name": "stdout",
     "output_type": "stream",
     "text": [
      "0.7562635757797405"
     ]
    }
   ],
   "source": [
    "// Generate some random data\n",
    "\n",
    "Random random = new Random();\n",
    "data1 = [];\n",
    "data2 = [];\n",
    "\n",
    "(1..10000).each {\n",
    "  data1 << random.nextGaussian();\n",
    "  data2 << 2*random.nextGaussian() + 1.0;\n",
    "}\n",
    "print(data1[7])\n",
    "OutputCell.HIDDEN"
   ]
  },
  {
   "cell_type": "code",
   "execution_count": 2,
   "metadata": {},
   "outputs": [
    {
     "data": {
      "application/vnd.jupyter.widget-view+json": {
       "model_id": "efead4b6-6c28-4a43-9e9a-c571a774c10c",
       "version_major": 2,
       "version_minor": 0
      },
      "method": "display_data"
     },
     "metadata": {},
     "output_type": "display_data"
    }
   ],
   "source": [
    "new Histogram(data: data1, binCount: 25);"
   ]
  },
  {
   "cell_type": "code",
   "execution_count": 3,
   "metadata": {},
   "outputs": [
    {
     "data": {
      "application/vnd.jupyter.widget-view+json": {
       "model_id": "8f863435-f492-47cb-838a-619d1bb30505",
       "version_major": 2,
       "version_minor": 0
      },
      "method": "display_data"
     },
     "metadata": {},
     "output_type": "display_data"
    }
   ],
   "source": [
    "new Histogram(initWidth:800, initHeight:200,\n",
    "              title:\"Wide Histogram with Manual Parameters\",\n",
    "              xLabel:\"Size\",\n",
    "              yLabel:\"Count\",\n",
    "              rangeMin: -8, \n",
    "              rangeMax: 8, \n",
    "              data: data1 + [7]*200,\n",
    "              binCount: 99, \n",
    "              color: new Color(0, 154, 166));"
   ]
  },
  {
   "cell_type": "code",
   "execution_count": 4,
   "metadata": {},
   "outputs": [
    {
     "data": {
      "application/vnd.jupyter.widget-view+json": {
       "model_id": "fa660259-4d6b-411c-80d5-c6ad306bdc37",
       "version_major": 2,
       "version_minor": 0
      },
      "method": "display_data"
     },
     "metadata": {},
     "output_type": "display_data"
    }
   ],
   "source": [
    "new Histogram(title:\"Default is Overlap\",\n",
    "              data: [data1, data2],\n",
    "              binCount: 99,\n",
    "              names: [\"old and tired\", \"new and improved\"],\n",
    "              color: [new Color(0, 154, 166),\n",
    "                      new Color(230, 50, 50, 128) // transparent!\n",
    "                     ]);"
   ]
  },
  {
   "cell_type": "code",
   "execution_count": 5,
   "metadata": {},
   "outputs": [
    {
     "data": {
      "application/vnd.jupyter.widget-view+json": {
       "model_id": "4b416fc7-5fa2-4f5b-9b77-2ec99cd557be",
       "version_major": 2,
       "version_minor": 0
      },
      "method": "display_data"
     },
     "metadata": {},
     "output_type": "display_data"
    }
   ],
   "source": [
    "new Histogram(title:\"Stack\",\n",
    "              showLegend: false,\n",
    "              displayMode: Histogram.DisplayMode.STACK,\n",
    "              data: [data1, data2],\n",
    "              binCount: 99)"
   ]
  },
  {
   "cell_type": "code",
   "execution_count": 6,
   "metadata": {},
   "outputs": [
    {
     "data": {
      "application/vnd.jupyter.widget-view+json": {
       "model_id": "37cc8b03-b537-448c-8eb2-ca80db9034b0",
       "version_major": 2,
       "version_minor": 0
      },
      "method": "display_data"
     },
     "metadata": {},
     "output_type": "display_data"
    }
   ],
   "source": [
    "new Histogram(title:\"Side by Side\",\n",
    "              displayMode: Histogram.DisplayMode.SIDE_BY_SIDE,\n",
    "              data: [data1,data2], \n",
    "              binCount: 55)"
   ]
  },
  {
   "cell_type": "code",
   "execution_count": 7,
   "metadata": {},
   "outputs": [
    {
     "data": {
      "application/vnd.jupyter.widget-view+json": {
       "model_id": "1ee704fa-843f-46c9-9171-edceebd5ba15",
       "version_major": 2,
       "version_minor": 0
      },
      "method": "display_data"
     },
     "metadata": {},
     "output_type": "display_data"
    }
   ],
   "source": [
    "new Histogram(title:\"Cumulative\",\n",
    "              cumulative: true,\n",
    "              data: data1,\n",
    "              binCount: 55);"
   ]
  },
  {
   "cell_type": "markdown",
   "metadata": {},
   "source": [
    "In a *normed* histogram, the height of the bars is scaled so the area under the histogram is unity."
   ]
  },
  {
   "cell_type": "code",
   "execution_count": 8,
   "metadata": {},
   "outputs": [
    {
     "data": {
      "application/vnd.jupyter.widget-view+json": {
       "model_id": "aa317c9c-4bfd-48da-8085-6fcdf209ae3b",
       "version_major": 2,
       "version_minor": 0
      },
      "method": "display_data"
     },
     "metadata": {},
     "output_type": "display_data"
    }
   ],
   "source": [
    "new Histogram(title:\"Normed, Area = 1.0\",\n",
    "              normed: true,\n",
    "              data: data1,\n",
    "              binCount: 55);"
   ]
  },
  {
   "cell_type": "code",
   "execution_count": 9,
   "metadata": {},
   "outputs": [
    {
     "data": {
      "application/vnd.jupyter.widget-view+json": {
       "model_id": "96f2a34e-1aec-4e07-aade-86f0cee28f7f",
       "version_major": 2,
       "version_minor": 0
      },
      "method": "display_data"
     },
     "metadata": {},
     "output_type": "display_data"
    }
   ],
   "source": [
    "new Histogram(log: true,  \n",
    "              data: data1,\n",
    "              binCount: 99);"
   ]
  },
  {
   "cell_type": "code",
   "execution_count": null,
   "metadata": {},
   "outputs": [],
   "source": []
  }
 ],
 "metadata": {
  "anaconda-cloud": {},
  "beakerx_kernel_parameters": {},
  "kernelspec": {
   "display_name": "Groovy",
   "language": "groovy",
   "name": "groovy"
  },
  "language_info": {
   "codemirror_mode": "groovy",
   "file_extension": ".groovy",
   "mimetype": "",
   "name": "Groovy",
   "nbconverter_exporter": "",
   "version": "3.0.3"
  }
 },
 "nbformat": 4,
 "nbformat_minor": 1
}
