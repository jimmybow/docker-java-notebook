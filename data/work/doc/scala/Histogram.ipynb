{
 "cells": [
  {
   "cell_type": "markdown",
   "metadata": {},
   "source": [
    "# Histograms in Scala\n",
    "\n",
    "In a histogram, the height of each bar (bin) represents the number of data points that fall into its interval.\n",
    "They are generally used to show the distribution of a variable."
   ]
  },
  {
   "cell_type": "code",
   "execution_count": 10,
   "metadata": {},
   "outputs": [
    {
     "name": "stdout",
     "output_type": "stream",
     "text": [
      "2.112427467511674\n"
     ]
    }
   ],
   "source": [
    "// Generate some random data\n",
    "\n",
    "val random = new scala.util.Random\n",
    "\n",
    "val (data1, data2) = (for {\n",
    "    _ <- 1 to 10000\n",
    "    v1 = random.nextGaussian\n",
    "    v2 = random.nextGaussian * 2 + 1\n",
    "} yield (v1, v2)).unzip\n",
    "\n",
    "println(data1(7))\n",
    "OutputCell.HIDDEN"
   ]
  },
  {
   "cell_type": "code",
   "execution_count": 11,
   "metadata": {},
   "outputs": [
    {
     "data": {
      "application/vnd.jupyter.widget-view+json": {
       "model_id": "12ad90af-4dd5-4b59-8bb4-ba0ec2737e63",
       "version_major": 2,
       "version_minor": 0
      },
      "method": "display_data"
     },
     "metadata": {},
     "output_type": "display_data"
    }
   ],
   "source": [
    "new Histogram { data = data1; binCount = 25 }"
   ]
  },
  {
   "cell_type": "code",
   "execution_count": 12,
   "metadata": {},
   "outputs": [
    {
     "data": {
      "application/vnd.jupyter.widget-view+json": {
       "model_id": "da6315c9-9d99-4a4f-8b36-8f8d61fb4690",
       "version_major": 2,
       "version_minor": 0
      },
      "method": "display_data"
     },
     "metadata": {},
     "output_type": "display_data"
    }
   ],
   "source": [
    "new Histogram { initWidth = 800; initHeight = 200\n",
    "              title = \"Wide Histogram with Manual Parameters\"\n",
    "              xLabel = \"Size\"\n",
    "              yLabel = \"Count\"\n",
    "              rangeMin = -8\n",
    "              rangeMax = 8\n",
    "              data = data1 ++ Seq.fill(200)(7.0)\n",
    "              binCount = 99\n",
    "              color = new Color(0, 154, 166)}"
   ]
  },
  {
   "cell_type": "code",
   "execution_count": 13,
   "metadata": {},
   "outputs": [
    {
     "data": {
      "application/vnd.jupyter.widget-view+json": {
       "model_id": "42a1b108-2b99-4be8-9358-fe745db1963b",
       "version_major": 2,
       "version_minor": 0
      },
      "method": "display_data"
     },
     "metadata": {},
     "output_type": "display_data"
    }
   ],
   "source": [
    "new Histogram{title = \"Default is Overlap\"\n",
    "              data = Seq(data1, data2)\n",
    "              binCount = 99\n",
    "              names = Seq(\"old and tired\", \"new and improved\")\n",
    "              color = Seq(new Color(0, 154, 166),\n",
    "                      new Color(230, 50, 50, 128) // transparent!\n",
    "                     )}"
   ]
  },
  {
   "cell_type": "code",
   "execution_count": 14,
   "metadata": {},
   "outputs": [
    {
     "data": {
      "application/vnd.jupyter.widget-view+json": {
       "model_id": "f216789b-a6e2-4461-abb2-53126c7829c5",
       "version_major": 2,
       "version_minor": 0
      },
      "method": "display_data"
     },
     "metadata": {},
     "output_type": "display_data"
    }
   ],
   "source": [
    "new Histogram{title = \"Stack\"\n",
    "              showLegend = false\n",
    "              displayMode = Histogram.DisplayMode.STACK\n",
    "              data = Seq(data1, data2)\n",
    "              binCount = 99}"
   ]
  },
  {
   "cell_type": "code",
   "execution_count": 15,
   "metadata": {},
   "outputs": [
    {
     "data": {
      "application/vnd.jupyter.widget-view+json": {
       "model_id": "10e51347-eb15-4c56-b6f4-78a44df9a8d7",
       "version_major": 2,
       "version_minor": 0
      },
      "method": "display_data"
     },
     "metadata": {},
     "output_type": "display_data"
    }
   ],
   "source": [
    "new Histogram{title =\"Side by Side\"\n",
    "              displayMode = Histogram.DisplayMode.SIDE_BY_SIDE\n",
    "              data = Seq(data1,data2)\n",
    "              binCount = 55}"
   ]
  },
  {
   "cell_type": "code",
   "execution_count": 16,
   "metadata": {},
   "outputs": [
    {
     "data": {
      "application/vnd.jupyter.widget-view+json": {
       "model_id": "b08ece55-4c09-4ebe-a73c-bdc669424d42",
       "version_major": 2,
       "version_minor": 0
      },
      "method": "display_data"
     },
     "metadata": {},
     "output_type": "display_data"
    }
   ],
   "source": [
    "new Histogram{title = \"Cumulative\"\n",
    "              cumulative = true\n",
    "              data = data1\n",
    "              binCount = 55}"
   ]
  },
  {
   "cell_type": "code",
   "execution_count": 17,
   "metadata": {},
   "outputs": [
    {
     "data": {
      "application/vnd.jupyter.widget-view+json": {
       "model_id": "6e46e626-83b5-4f32-95ca-01fc9af9e246",
       "version_major": 2,
       "version_minor": 0
      },
      "method": "display_data"
     },
     "metadata": {},
     "output_type": "display_data"
    }
   ],
   "source": [
    "new Histogram{title = \"Normed, Area = 1.0\"\n",
    "              normed = true\n",
    "              data = data1\n",
    "              binCount = 55}"
   ]
  },
  {
   "cell_type": "code",
   "execution_count": 18,
   "metadata": {},
   "outputs": [
    {
     "data": {
      "application/vnd.jupyter.widget-view+json": {
       "model_id": "cdb3849d-74b2-4455-b510-3179e93d7284",
       "version_major": 2,
       "version_minor": 0
      },
      "method": "display_data"
     },
     "metadata": {},
     "output_type": "display_data"
    }
   ],
   "source": [
    "new Histogram{log = true\n",
    "              data = data1\n",
    "              binCount = 99}"
   ]
  },
  {
   "cell_type": "code",
   "execution_count": null,
   "metadata": {},
   "outputs": [],
   "source": []
  }
 ],
 "metadata": {
  "kernelspec": {
   "display_name": "Scala",
   "language": "scala",
   "name": "scala"
  },
  "language_info": {
   "codemirror_mode": "text/x-scala",
   "file_extension": ".scala",
   "mimetype": "",
   "name": "Scala",
   "nbconverter_exporter": "",
   "version": "2.12.8"
  },
  "toc": {
   "base_numbering": 1,
   "nav_menu": {},
   "number_sections": false,
   "sideBar": false,
   "skip_h1_title": false,
   "title_cell": "Table of Contents",
   "title_sidebar": "Contents",
   "toc_cell": false,
   "toc_position": {},
   "toc_section_display": false,
   "toc_window_display": false
  }
 },
 "nbformat": 4,
 "nbformat_minor": 2
}
