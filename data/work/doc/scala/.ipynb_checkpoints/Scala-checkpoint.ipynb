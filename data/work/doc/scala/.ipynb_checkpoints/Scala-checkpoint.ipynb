{
 "cells": [
  {
   "cell_type": "markdown",
   "metadata": {},
   "source": [
    "# Scala\n",
    "\n",
    "[Scala](https://www.scala-lang.org/) combines the functional/type-inference paradigm and the object-oriented paradigm, and is also meant to be an improved version of Java.  Scala is the native language of [Apache Spark](Spark.ipynb).\n",
    "\n",
    "BeakerX has Scala APIs for [EasyForm](EasyForm.ipynb), [Tables](TableApi.ipynb), and [Plotting](Plot.ipynb)."
   ]
  },
  {
   "cell_type": "code",
   "execution_count": 1,
   "metadata": {},
   "outputs": [
    {
     "ename": "<console>",
     "evalue": "88",
     "output_type": "error",
     "traceback": [
      "\u001b[1;31m<console>:88: error: not found: type Greeter\u001b[0;0m",
      "\u001b[1;31m       val greeter = new Greeter(\"Hello, \", \"!\")\u001b[0;0m",
      "\u001b[1;31m                         ^\u001b[0;0m"
     ]
    }
   ],
   "source": [
    "val greeter = new Greeter(\"Hello, \", \"!\")"
   ]
  },
  {
   "cell_type": "code",
   "execution_count": 2,
   "metadata": {},
   "outputs": [
    {
     "ename": "<console>",
     "evalue": "89",
     "output_type": "error",
     "traceback": [
      "\u001b[1;31m<console>:89: error: not found: value greeter\u001b[0;0m",
      "\u001b[1;31m       greeter.greet(\"ok\")\u001b[0;0m",
      "\u001b[1;31m       ^\u001b[0;0m"
     ]
    }
   ],
   "source": [
    "greeter.greet(\"ok\")"
   ]
  }
 ],
 "metadata": {
  "beakerx_kernel_parameters": {},
  "kernelspec": {
   "display_name": "Scala",
   "language": "scala",
   "name": "scala"
  },
  "language_info": {
   "codemirror_mode": "text/x-scala",
   "file_extension": ".scala",
   "mimetype": "",
   "name": "Scala",
   "nbconverter_exporter": "",
   "version": "2.11.12"
  },
  "toc": {
   "base_numbering": 1,
   "nav_menu": {},
   "number_sections": false,
   "sideBar": false,
   "skip_h1_title": false,
   "title_cell": "Table of Contents",
   "title_sidebar": "Contents",
   "toc_cell": false,
   "toc_position": {},
   "toc_section_display": false,
   "toc_window_display": false
  }
 },
 "nbformat": 4,
 "nbformat_minor": 1
}
